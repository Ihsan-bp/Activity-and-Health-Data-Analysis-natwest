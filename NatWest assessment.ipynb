{
 "cells": [
  {
   "cell_type": "markdown",
   "id": "e039685c",
   "metadata": {},
   "source": [
    "## Importing Libraries"
   ]
  },
  {
   "cell_type": "code",
   "execution_count": 11,
   "id": "d7a52a18",
   "metadata": {},
   "outputs": [],
   "source": [
    "import pandas as pd\n",
    "import seaborn as sns\n",
    "import numpy as np\n",
    "import datetime as dt\n",
    "import matplotlib.pyplot as plt\n",
    "import matplotlib.dates as mdates\n",
    "import re"
   ]
  },
  {
   "cell_type": "markdown",
   "id": "35105243",
   "metadata": {},
   "source": [
    "## Loading Data"
   ]
  },
  {
   "cell_type": "code",
   "execution_count": 4,
   "id": "40f32849",
   "metadata": {},
   "outputs": [
    {
     "data": {
      "text/html": [
       "<div>\n",
       "<style scoped>\n",
       "    .dataframe tbody tr th:only-of-type {\n",
       "        vertical-align: middle;\n",
       "    }\n",
       "\n",
       "    .dataframe tbody tr th {\n",
       "        vertical-align: top;\n",
       "    }\n",
       "\n",
       "    .dataframe thead th {\n",
       "        text-align: right;\n",
       "    }\n",
       "</style>\n",
       "<table border=\"1\" class=\"dataframe\">\n",
       "  <thead>\n",
       "    <tr style=\"text-align: right;\">\n",
       "      <th></th>\n",
       "      <th>LineId</th>\n",
       "      <th>Time</th>\n",
       "      <th>Component</th>\n",
       "      <th>Pid</th>\n",
       "      <th>Content</th>\n",
       "      <th>EventId</th>\n",
       "      <th>EventTemplate</th>\n",
       "    </tr>\n",
       "  </thead>\n",
       "  <tbody>\n",
       "    <tr>\n",
       "      <th>0</th>\n",
       "      <td>1</td>\n",
       "      <td>20171223-22:15:29:606</td>\n",
       "      <td>Step_LSC</td>\n",
       "      <td>30002312</td>\n",
       "      <td>onStandStepChanged 3579</td>\n",
       "      <td>E42</td>\n",
       "      <td>onStandStepChanged &lt;*&gt;</td>\n",
       "    </tr>\n",
       "    <tr>\n",
       "      <th>1</th>\n",
       "      <td>2</td>\n",
       "      <td>20171223-22:15:29:615</td>\n",
       "      <td>Step_LSC</td>\n",
       "      <td>30002312</td>\n",
       "      <td>onExtend:1514038530000 14 0 4</td>\n",
       "      <td>E39</td>\n",
       "      <td>onExtend:&lt;*&gt; &lt;*&gt; &lt;*&gt; &lt;*&gt;</td>\n",
       "    </tr>\n",
       "    <tr>\n",
       "      <th>2</th>\n",
       "      <td>3</td>\n",
       "      <td>20171223-22:15:29:633</td>\n",
       "      <td>Step_StandReportReceiver</td>\n",
       "      <td>30002312</td>\n",
       "      <td>onReceive action: android.intent.action.SCREEN_ON</td>\n",
       "      <td>E41</td>\n",
       "      <td>onReceive action: android.intent.action.SCREEN_ON</td>\n",
       "    </tr>\n",
       "    <tr>\n",
       "      <th>3</th>\n",
       "      <td>4</td>\n",
       "      <td>20171223-22:15:29:635</td>\n",
       "      <td>Step_LSC</td>\n",
       "      <td>30002312</td>\n",
       "      <td>processHandleBroadcastAction action:android.in...</td>\n",
       "      <td>E43</td>\n",
       "      <td>processHandleBroadcastAction action:android.in...</td>\n",
       "    </tr>\n",
       "    <tr>\n",
       "      <th>4</th>\n",
       "      <td>5</td>\n",
       "      <td>20171223-22:15:29:635</td>\n",
       "      <td>Step_StandStepCounter</td>\n",
       "      <td>30002312</td>\n",
       "      <td>flush sensor data</td>\n",
       "      <td>E12</td>\n",
       "      <td>flush sensor data</td>\n",
       "    </tr>\n",
       "  </tbody>\n",
       "</table>\n",
       "</div>"
      ],
      "text/plain": [
       "   LineId                   Time                 Component       Pid  \\\n",
       "0       1  20171223-22:15:29:606                  Step_LSC  30002312   \n",
       "1       2  20171223-22:15:29:615                  Step_LSC  30002312   \n",
       "2       3  20171223-22:15:29:633  Step_StandReportReceiver  30002312   \n",
       "3       4  20171223-22:15:29:635                  Step_LSC  30002312   \n",
       "4       5  20171223-22:15:29:635     Step_StandStepCounter  30002312   \n",
       "\n",
       "                                             Content EventId  \\\n",
       "0                            onStandStepChanged 3579     E42   \n",
       "1                      onExtend:1514038530000 14 0 4     E39   \n",
       "2  onReceive action: android.intent.action.SCREEN_ON     E41   \n",
       "3  processHandleBroadcastAction action:android.in...     E43   \n",
       "4                                  flush sensor data     E12   \n",
       "\n",
       "                                       EventTemplate  \n",
       "0                             onStandStepChanged <*>  \n",
       "1                           onExtend:<*> <*> <*> <*>  \n",
       "2  onReceive action: android.intent.action.SCREEN_ON  \n",
       "3  processHandleBroadcastAction action:android.in...  \n",
       "4                                  flush sensor data  "
      ]
     },
     "execution_count": 4,
     "metadata": {},
     "output_type": "execute_result"
    }
   ],
   "source": [
    "df=pd.read_csv(\"C:\\\\Users\\\\IHSAN B P\\\\Desktop\\\\ibp\\\\natwest\\\\HealthApp_2k.log_structured.csv\")\n",
    "template=pd.read_csv(\"C:\\\\Users\\\\IHSAN B P\\\\Desktop\\\\ibp\\\\natwest\\\\HealthApp_2k.log_templates.csv\")\n",
    "df.head()"
   ]
  },
  {
   "cell_type": "code",
   "execution_count": 5,
   "id": "d6386ed9",
   "metadata": {},
   "outputs": [
    {
     "name": "stdout",
     "output_type": "stream",
     "text": [
      "<class 'pandas.core.frame.DataFrame'>\n",
      "RangeIndex: 2000 entries, 0 to 1999\n",
      "Data columns (total 7 columns):\n",
      " #   Column         Non-Null Count  Dtype \n",
      "---  ------         --------------  ----- \n",
      " 0   LineId         2000 non-null   int64 \n",
      " 1   Time           2000 non-null   object\n",
      " 2   Component      2000 non-null   object\n",
      " 3   Pid            2000 non-null   int64 \n",
      " 4   Content        2000 non-null   object\n",
      " 5   EventId        2000 non-null   object\n",
      " 6   EventTemplate  2000 non-null   object\n",
      "dtypes: int64(2), object(5)\n",
      "memory usage: 109.5+ KB\n"
     ]
    }
   ],
   "source": [
    "df.info()"
   ]
  },
  {
   "cell_type": "code",
   "execution_count": 6,
   "id": "d5645b15",
   "metadata": {},
   "outputs": [
    {
     "data": {
      "text/html": [
       "<div>\n",
       "<style scoped>\n",
       "    .dataframe tbody tr th:only-of-type {\n",
       "        vertical-align: middle;\n",
       "    }\n",
       "\n",
       "    .dataframe tbody tr th {\n",
       "        vertical-align: top;\n",
       "    }\n",
       "\n",
       "    .dataframe thead th {\n",
       "        text-align: right;\n",
       "    }\n",
       "</style>\n",
       "<table border=\"1\" class=\"dataframe\">\n",
       "  <thead>\n",
       "    <tr style=\"text-align: right;\">\n",
       "      <th></th>\n",
       "      <th>LineId</th>\n",
       "      <th>Time</th>\n",
       "      <th>Component</th>\n",
       "      <th>Content</th>\n",
       "      <th>EventId</th>\n",
       "      <th>EventTemplate</th>\n",
       "    </tr>\n",
       "  </thead>\n",
       "  <tbody>\n",
       "    <tr>\n",
       "      <th>0</th>\n",
       "      <td>1</td>\n",
       "      <td>20171223-22:15:29:606</td>\n",
       "      <td>Step_LSC</td>\n",
       "      <td>onStandStepChanged 3579</td>\n",
       "      <td>E42</td>\n",
       "      <td>onStandStepChanged &lt;*&gt;</td>\n",
       "    </tr>\n",
       "    <tr>\n",
       "      <th>1</th>\n",
       "      <td>2</td>\n",
       "      <td>20171223-22:15:29:615</td>\n",
       "      <td>Step_LSC</td>\n",
       "      <td>onExtend:1514038530000 14 0 4</td>\n",
       "      <td>E39</td>\n",
       "      <td>onExtend:&lt;*&gt; &lt;*&gt; &lt;*&gt; &lt;*&gt;</td>\n",
       "    </tr>\n",
       "    <tr>\n",
       "      <th>2</th>\n",
       "      <td>3</td>\n",
       "      <td>20171223-22:15:29:633</td>\n",
       "      <td>Step_StandReportReceiver</td>\n",
       "      <td>onReceive action: android.intent.action.SCREEN_ON</td>\n",
       "      <td>E41</td>\n",
       "      <td>onReceive action: android.intent.action.SCREEN_ON</td>\n",
       "    </tr>\n",
       "    <tr>\n",
       "      <th>3</th>\n",
       "      <td>4</td>\n",
       "      <td>20171223-22:15:29:635</td>\n",
       "      <td>Step_LSC</td>\n",
       "      <td>processHandleBroadcastAction action:android.in...</td>\n",
       "      <td>E43</td>\n",
       "      <td>processHandleBroadcastAction action:android.in...</td>\n",
       "    </tr>\n",
       "    <tr>\n",
       "      <th>4</th>\n",
       "      <td>5</td>\n",
       "      <td>20171223-22:15:29:635</td>\n",
       "      <td>Step_StandStepCounter</td>\n",
       "      <td>flush sensor data</td>\n",
       "      <td>E12</td>\n",
       "      <td>flush sensor data</td>\n",
       "    </tr>\n",
       "  </tbody>\n",
       "</table>\n",
       "</div>"
      ],
      "text/plain": [
       "   LineId                   Time                 Component  \\\n",
       "0       1  20171223-22:15:29:606                  Step_LSC   \n",
       "1       2  20171223-22:15:29:615                  Step_LSC   \n",
       "2       3  20171223-22:15:29:633  Step_StandReportReceiver   \n",
       "3       4  20171223-22:15:29:635                  Step_LSC   \n",
       "4       5  20171223-22:15:29:635     Step_StandStepCounter   \n",
       "\n",
       "                                             Content EventId  \\\n",
       "0                            onStandStepChanged 3579     E42   \n",
       "1                      onExtend:1514038530000 14 0 4     E39   \n",
       "2  onReceive action: android.intent.action.SCREEN_ON     E41   \n",
       "3  processHandleBroadcastAction action:android.in...     E43   \n",
       "4                                  flush sensor data     E12   \n",
       "\n",
       "                                       EventTemplate  \n",
       "0                             onStandStepChanged <*>  \n",
       "1                           onExtend:<*> <*> <*> <*>  \n",
       "2  onReceive action: android.intent.action.SCREEN_ON  \n",
       "3  processHandleBroadcastAction action:android.in...  \n",
       "4                                  flush sensor data  "
      ]
     },
     "execution_count": 6,
     "metadata": {},
     "output_type": "execute_result"
    }
   ],
   "source": [
    "#droping 'Pid' column\n",
    "df = df.drop('Pid', axis = 1)\n",
    "df.head()"
   ]
  },
  {
   "cell_type": "markdown",
   "id": "ee24da78",
   "metadata": {},
   "source": [
    "## Total Steps Over Time for Event E22(number of steps)"
   ]
  },
  {
   "cell_type": "code",
   "execution_count": 54,
   "id": "5ecc6e55",
   "metadata": {},
   "outputs": [
    {
     "data": {
      "image/png": "[encoded data removed]",
      "text/plain": [
       "<Figure size 864x432 with 1 Axes>"
      ]
     },
     "metadata": {
      "needs_background": "light"
     },
     "output_type": "display_data"
    }
   ],
   "source": [
    "# Create a copy of the slice for safe modifications\n",
    "df_e22 = df[df['EventId'] == 'E22'].copy()\n",
    "\n",
    "# Convert 'Time' to datetime format\n",
    "df_e22['Time'] = pd.to_datetime(df_e22['Time'], format='%Y%m%d-%H:%M:%S:%f')\n",
    "\n",
    "# Assuming 'Steps' is already cumulative, extract steps and convert to integer\n",
    "df_e22['Steps'] = df_e22['Content'].str.extract(r'##(\\d+)##').astype(int)\n",
    "\n",
    "# Plotting Cumulative Steps\n",
    "plt.figure(figsize=(12, 6))\n",
    "plt.plot(df_e22['Time'], df_e22['Steps'], marker='o', linestyle='-')\n",
    "plt.title('Steps Over Time for Event E22')\n",
    "plt.xlabel('Time')\n",
    "plt.ylabel('Steps')\n",
    "plt.grid(True)\n",
    "plt.xticks(rotation=45)\n",
    "plt.tight_layout()\n",
    "plt.show()"
   ]
  },
  {
   "cell_type": "markdown",
   "id": "89e3cbd3",
   "metadata": {},
   "source": [
    "## Active Steps Over Time for Event E22, Excluding Inactive Periods"
   ]
  },
  {
   "cell_type": "markdown",
   "id": "fb25f733",
   "metadata": {},
   "source": [
    "#### excluding periods of inactivity"
   ]
  },
  {
   "cell_type": "code",
   "execution_count": 60,
   "id": "21f404d0",
   "metadata": {},
   "outputs": [
    {
     "data": {
      "image/png": "[encoded data removed]",
      "text/plain": [
       "<Figure size 864x432 with 1 Axes>"
      ]
     },
     "metadata": {
      "needs_background": "light"
     },
     "output_type": "display_data"
    }
   ],
   "source": [
    "import pandas as pd\n",
    "import matplotlib.pyplot as plt\n",
    "\n",
    "# Assuming 'df_e22' is your DataFrame after the previous transformations\n",
    "\n",
    "# Filter out rows where the step count is zero\n",
    "df_walking = df_e22[df_e22['Steps'] > 0]\n",
    "\n",
    "# Plotting Steps vs. Time while the person is walking\n",
    "plt.figure(figsize=(12, 6))\n",
    "plt.plot(df_walking['Time'], df_walking['Steps'], marker='o', linestyle='-')\n",
    "plt.title('Steps Over Time for Event E22 (While Walking)')\n",
    "plt.xlabel('Time')\n",
    "plt.ylabel('Steps')\n",
    "plt.grid(True)\n",
    "plt.xticks(rotation=45)\n",
    "plt.tight_layout()\n",
    "plt.show()\n"
   ]
  },
  {
   "cell_type": "code",
   "execution_count": 48,
   "id": "27168293",
   "metadata": {},
   "outputs": [
    {
     "data": {
      "text/html": [
       "<div>\n",
       "<style scoped>\n",
       "    .dataframe tbody tr th:only-of-type {\n",
       "        vertical-align: middle;\n",
       "    }\n",
       "\n",
       "    .dataframe tbody tr th {\n",
       "        vertical-align: top;\n",
       "    }\n",
       "\n",
       "    .dataframe thead th {\n",
       "        text-align: right;\n",
       "    }\n",
       "</style>\n",
       "<table border=\"1\" class=\"dataframe\">\n",
       "  <thead>\n",
       "    <tr style=\"text-align: right;\">\n",
       "      <th></th>\n",
       "      <th>LineId</th>\n",
       "      <th>Time</th>\n",
       "      <th>Component</th>\n",
       "      <th>Content</th>\n",
       "      <th>EventId</th>\n",
       "      <th>EventTemplate</th>\n",
       "      <th>Steps</th>\n",
       "      <th>Date</th>\n",
       "      <th>Hour</th>\n",
       "      <th>Minute</th>\n",
       "    </tr>\n",
       "  </thead>\n",
       "  <tbody>\n",
       "    <tr>\n",
       "      <th>5</th>\n",
       "      <td>6</td>\n",
       "      <td>2017-12-23 22:15:29.635</td>\n",
       "      <td>Step_SPUtils</td>\n",
       "      <td>getTodayTotalDetailSteps = 1514038440000##699...</td>\n",
       "      <td>E22</td>\n",
       "      <td>getTodayTotalDetailSteps = &lt;*&gt;##&lt;*&gt;##&lt;*&gt;##&lt;*&gt;#...</td>\n",
       "      <td>6993</td>\n",
       "      <td>2017-12-23</td>\n",
       "      <td>22</td>\n",
       "      <td>15</td>\n",
       "    </tr>\n",
       "    <tr>\n",
       "      <th>15</th>\n",
       "      <td>16</td>\n",
       "      <td>2017-12-23 22:15:29.950</td>\n",
       "      <td>Step_SPUtils</td>\n",
       "      <td>getTodayTotalDetailSteps = 1514038440000##700...</td>\n",
       "      <td>E22</td>\n",
       "      <td>getTodayTotalDetailSteps = &lt;*&gt;##&lt;*&gt;##&lt;*&gt;##&lt;*&gt;#...</td>\n",
       "      <td>7007</td>\n",
       "      <td>2017-12-23</td>\n",
       "      <td>22</td>\n",
       "      <td>15</td>\n",
       "    </tr>\n",
       "    <tr>\n",
       "      <th>22</th>\n",
       "      <td>23</td>\n",
       "      <td>2017-12-23 22:15:30.632</td>\n",
       "      <td>Step_SPUtils</td>\n",
       "      <td>getTodayTotalDetailSteps = 1514038440000##700...</td>\n",
       "      <td>E22</td>\n",
       "      <td>getTodayTotalDetailSteps = &lt;*&gt;##&lt;*&gt;##&lt;*&gt;##&lt;*&gt;#...</td>\n",
       "      <td>7008</td>\n",
       "      <td>2017-12-23</td>\n",
       "      <td>22</td>\n",
       "      <td>15</td>\n",
       "    </tr>\n",
       "    <tr>\n",
       "      <th>29</th>\n",
       "      <td>30</td>\n",
       "      <td>2017-12-23 22:15:31.142</td>\n",
       "      <td>Step_SPUtils</td>\n",
       "      <td>getTodayTotalDetailSteps = 1514038440000##700...</td>\n",
       "      <td>E22</td>\n",
       "      <td>getTodayTotalDetailSteps = &lt;*&gt;##&lt;*&gt;##&lt;*&gt;##&lt;*&gt;#...</td>\n",
       "      <td>7009</td>\n",
       "      <td>2017-12-23</td>\n",
       "      <td>22</td>\n",
       "      <td>15</td>\n",
       "    </tr>\n",
       "    <tr>\n",
       "      <th>36</th>\n",
       "      <td>37</td>\n",
       "      <td>2017-12-23 22:15:32.145</td>\n",
       "      <td>Step_SPUtils</td>\n",
       "      <td>getTodayTotalDetailSteps = 1514038440000##701...</td>\n",
       "      <td>E22</td>\n",
       "      <td>getTodayTotalDetailSteps = &lt;*&gt;##&lt;*&gt;##&lt;*&gt;##&lt;*&gt;#...</td>\n",
       "      <td>7011</td>\n",
       "      <td>2017-12-23</td>\n",
       "      <td>22</td>\n",
       "      <td>15</td>\n",
       "    </tr>\n",
       "  </tbody>\n",
       "</table>\n",
       "</div>"
      ],
      "text/plain": [
       "    LineId                    Time     Component  \\\n",
       "5        6 2017-12-23 22:15:29.635  Step_SPUtils   \n",
       "15      16 2017-12-23 22:15:29.950  Step_SPUtils   \n",
       "22      23 2017-12-23 22:15:30.632  Step_SPUtils   \n",
       "29      30 2017-12-23 22:15:31.142  Step_SPUtils   \n",
       "36      37 2017-12-23 22:15:32.145  Step_SPUtils   \n",
       "\n",
       "                                              Content EventId  \\\n",
       "5    getTodayTotalDetailSteps = 1514038440000##699...     E22   \n",
       "15   getTodayTotalDetailSteps = 1514038440000##700...     E22   \n",
       "22   getTodayTotalDetailSteps = 1514038440000##700...     E22   \n",
       "29   getTodayTotalDetailSteps = 1514038440000##700...     E22   \n",
       "36   getTodayTotalDetailSteps = 1514038440000##701...     E22   \n",
       "\n",
       "                                        EventTemplate  Steps        Date  \\\n",
       "5   getTodayTotalDetailSteps = <*>##<*>##<*>##<*>#...   6993  2017-12-23   \n",
       "15  getTodayTotalDetailSteps = <*>##<*>##<*>##<*>#...   7007  2017-12-23   \n",
       "22  getTodayTotalDetailSteps = <*>##<*>##<*>##<*>#...   7008  2017-12-23   \n",
       "29  getTodayTotalDetailSteps = <*>##<*>##<*>##<*>#...   7009  2017-12-23   \n",
       "36  getTodayTotalDetailSteps = <*>##<*>##<*>##<*>#...   7011  2017-12-23   \n",
       "\n",
       "    Hour  Minute  \n",
       "5     22      15  \n",
       "15    22      15  \n",
       "22    22      15  \n",
       "29    22      15  \n",
       "36    22      15  "
      ]
     },
     "execution_count": 48,
     "metadata": {},
     "output_type": "execute_result"
    }
   ],
   "source": [
    "df_e22.head()"
   ]
  },
  {
   "cell_type": "markdown",
   "id": "7837da24",
   "metadata": {},
   "source": [
    "## Identifying Workout Sessions from Step Count Data"
   ]
  },
  {
   "cell_type": "code",
   "execution_count": 38,
   "id": "e3c5c0f0",
   "metadata": {},
   "outputs": [
    {
     "name": "stdout",
     "output_type": "stream",
     "text": [
      "Workout sessions:\n",
      "Start: 2017-12-23 22:15:29.635000 - End: 2017-12-24 00:00:00.234000\n"
     ]
    }
   ],
   "source": [
    "df_e22['Date'] = df_e22['Time'].dt.date\n",
    "df_e22['Hour'] = df_e22['Time'].dt.hour\n",
    "df_e22['Minute'] = df_e22['Time'].dt.minute\n",
    "\n",
    "steps_increase_threshold = 1000\n",
    "min_duration_minutes = 30\n",
    "\n",
    "workout_sessions = []\n",
    "current_session = None\n",
    "\n",
    "for index, row in df_e22.iterrows():\n",
    "    if row['Steps'] > steps_increase_threshold:\n",
    "        if current_session is None:\n",
    "            current_session = {'start_time': row['Time']}\n",
    "        else:\n",
    "            current_session['end_time'] = row['Time']\n",
    "    else:\n",
    "        if current_session is not None:\n",
    "            duration = (current_session['end_time'] - current_session['start_time']).total_seconds() / 60\n",
    "            if duration >= min_duration_minutes:\n",
    "                workout_sessions.append(current_session)\n",
    "            current_session = None\n",
    "\n",
    "if workout_sessions:\n",
    "    print(\"Workout sessions:\")\n",
    "    for session in workout_sessions:\n",
    "        print(f\"Start: {session['start_time']} - End: {session['end_time']}\")"
   ]
  },
  {
   "cell_type": "markdown",
   "id": "ea22eab0",
   "metadata": {},
   "source": [
    "## Analysis of Rest Periods Based on Screen-Off Events"
   ]
  },
  {
   "cell_type": "code",
   "execution_count": 16,
   "id": "a55ea217",
   "metadata": {},
   "outputs": [
    {
     "name": "stderr",
     "output_type": "stream",
     "text": [
      "C:\\Users\\IHSAN B P\\AppData\\Local\\Temp\\ipykernel_6664\\3834941718.py:5: SettingWithCopyWarning: \n",
      "A value is trying to be set on a copy of a slice from a DataFrame.\n",
      "Try using .loc[row_indexer,col_indexer] = value instead\n",
      "\n",
      "See the caveats in the documentation: https://pandas.pydata.org/pandas-docs/stable/user_guide/indexing.html#returning-a-view-versus-a-copy\n",
      "  df_screen_off['Time'] = pd.to_datetime(df_screen_off['Time'], format='%Y%m%d-%H:%M:%S:%f')\n"
     ]
    },
    {
     "data": {
      "image/png": "[encoded data removed]",
      "text/plain": [
       "<Figure size 864x432 with 1 Axes>"
      ]
     },
     "metadata": {
      "needs_background": "light"
     },
     "output_type": "display_data"
    },
    {
     "name": "stdout",
     "output_type": "stream",
     "text": [
      "Sleep started at: 2017-12-24 00:28:48.963000\n"
     ]
    }
   ],
   "source": [
    "# Filter for screen off events (E40)\n",
    "df_screen_off = df[df['EventId'] == 'E40']\n",
    "\n",
    "# Convert 'Time' to datetime\n",
    "df_screen_off['Time'] = pd.to_datetime(df_screen_off['Time'], format='%Y%m%d-%H:%M:%S:%f')\n",
    "\n",
    "# Sort by time just in case\n",
    "df_screen_off = df_screen_off.sort_values(by='Time')\n",
    "\n",
    "# Detect continuous inactivity periods\n",
    "df_screen_off['Time_Diff'] = df_screen_off['Time'].diff().dt.total_seconds().fillna(0)\n",
    "sleep_threshold = 3600  # 1 hour in seconds\n",
    "df_screen_off['Is_Sleep'] = df_screen_off['Time_Diff'] > sleep_threshold\n",
    "\n",
    "# Finding sleep start and end times\n",
    "sleep_periods = df_screen_off[df_screen_off['Is_Sleep']]\n",
    "sleep_start_times = sleep_periods['Time'].tolist()\n",
    "\n",
    "# Visualization\n",
    "plt.figure(figsize=(12, 6))\n",
    "plt.plot(df_screen_off['Time'], df_screen_off['Time_Diff'], marker='o', linestyle='-')\n",
    "plt.title('Detected Rest Periods Over Time')\n",
    "plt.xlabel('Time')\n",
    "plt.ylabel('Duration of Inactivity (Seconds)')\n",
    "plt.gca().xaxis.set_major_formatter(mdates.DateFormatter('%Y-%m-%d %H:%M'))\n",
    "plt.xticks(rotation=45)\n",
    "plt.axhline(y=sleep_threshold, color='r', linestyle='--', label='Sleep Threshold')\n",
    "plt.legend()\n",
    "plt.grid(True)\n",
    "plt.tight_layout()\n",
    "plt.show()\n",
    "\n",
    "# Print sleep start times\n",
    "for start_time in sleep_start_times:\n",
    "    print(\"Sleep started at:\", start_time)"
   ]
  },
  {
   "cell_type": "markdown",
   "id": "dcbbfa7e",
   "metadata": {},
   "source": [
    "## App Usage and Engagement Analysis"
   ]
  },
  {
   "cell_type": "code",
   "execution_count": 61,
   "id": "43ca1e6d",
   "metadata": {},
   "outputs": [
    {
     "data": {
      "image/png": "[encoded data removed]",
      "text/plain": [
       "<Figure size 576x288 with 1 Axes>"
      ]
     },
     "metadata": {
      "needs_background": "light"
     },
     "output_type": "display_data"
    },
    {
     "data": {
      "image/png": "[encoded data removed]",
      "text/plain": [
       "<Figure size 576x288 with 1 Axes>"
      ]
     },
     "metadata": {
      "needs_background": "light"
     },
     "output_type": "display_data"
    }
   ],
   "source": [
    "notification_counts.index = ['Open Notification', 'Delete Notification']\n",
    "\n",
    "# Plotting the notification interactions graph\n",
    "notification_counts.plot(kind='bar', color='skyblue', figsize=(8, 4))\n",
    "plt.title('User Interaction with Notifications')\n",
    "plt.xlabel('Type of Interaction')\n",
    "plt.ylabel('Count')\n",
    "plt.xticks(rotation=0)  # To display labels horizontally\n",
    "plt.tight_layout()\n",
    "plt.show()\n",
    "sync_counts.index = ['Standard Sync', 'Priority Sync', 'Data Upload']\n",
    "\n",
    "# Plotting the data sync and upload events graph\n",
    "sync_counts.plot(kind='bar', color='skyblue', figsize=(8, 4))\n",
    "plt.title('Data Synchronization and Upload Events')\n",
    "plt.xlabel('Type of Event')\n",
    "plt.ylabel('Count')\n",
    "plt.xticks(rotation=0)\n",
    "plt.tight_layout()\n",
    "plt.show()"
   ]
  },
  {
   "cell_type": "markdown",
   "id": "6a34c48d",
   "metadata": {},
   "source": [
    "## Health Data Quality Analysis"
   ]
  },
  {
   "cell_type": "markdown",
   "id": "87e0a22d",
   "metadata": {},
   "source": [
    "### a. Data Quality Checks"
   ]
  },
  {
   "cell_type": "code",
   "execution_count": 30,
   "id": "f823614b",
   "metadata": {},
   "outputs": [
    {
     "data": {
      "text/plain": [
       "<AxesSubplot:>"
      ]
     },
     "execution_count": 30,
     "metadata": {},
     "output_type": "execute_result"
    },
    {
     "data": {
      "image/png": "[encoded data removed]",
      "text/plain": [
       "<Figure size 432x288 with 1 Axes>"
      ]
     },
     "metadata": {
      "needs_background": "light"
     },
     "output_type": "display_data"
    }
   ],
   "source": [
    "data_quality_events = df[df['EventId'].isin(['E31', 'E50'])]\n",
    "data_quality_counts = data_quality_events['EventId'].value_counts()\n",
    "data_quality_counts.plot(kind='bar')"
   ]
  },
  {
   "cell_type": "markdown",
   "id": "27b872e9",
   "metadata": {},
   "source": [
    "## Time Series Analysis"
   ]
  },
  {
   "cell_type": "markdown",
   "id": "d7d31ec3",
   "metadata": {},
   "source": [
    "### a. Event Frequency Over Time"
   ]
  },
  {
   "cell_type": "code",
   "execution_count": 32,
   "id": "b29e4c20",
   "metadata": {},
   "outputs": [
    {
     "name": "stderr",
     "output_type": "stream",
     "text": [
      "C:\\Users\\IHSAN B P\\AppData\\Local\\Temp\\ipykernel_6664\\2027723906.py:2: SettingWithCopyWarning: \n",
      "A value is trying to be set on a copy of a slice from a DataFrame.\n",
      "Try using .loc[row_indexer,col_indexer] = value instead\n",
      "\n",
      "See the caveats in the documentation: https://pandas.pydata.org/pandas-docs/stable/user_guide/indexing.html#returning-a-view-versus-a-copy\n",
      "  key_events['Time'] = pd.to_datetime(key_events['Time'], format='%Y%m%d-%H:%M:%S:%f')\n"
     ]
    },
    {
     "data": {
      "text/plain": [
       "<AxesSubplot:xlabel='Time'>"
      ]
     },
     "execution_count": 32,
     "metadata": {},
     "output_type": "execute_result"
    },
    {
     "data": {
      "image/png": "[encoded data removed]",
      "text/plain": [
       "<Figure size 432x288 with 1 Axes>"
      ]
     },
     "metadata": {
      "needs_background": "light"
     },
     "output_type": "display_data"
    }
   ],
   "source": [
    "key_events = df[df['EventId'].isin(['E10', 'E11', 'E1', 'E23', 'E74', 'E31', 'E50', 'E12'])]\n",
    "key_events['Time'] = pd.to_datetime(key_events['Time'], format='%Y%m%d-%H:%M:%S:%f')\n",
    "key_events.groupby([key_events['Time'].dt.date, 'EventId']).size().unstack().plot(kind='line')"
   ]
  },
  {
   "cell_type": "markdown",
   "id": "73d78b4e",
   "metadata": {},
   "source": [
    "### b. Correlation with Time of Day"
   ]
  },
  {
   "cell_type": "code",
   "execution_count": 33,
   "id": "1ad00704",
   "metadata": {},
   "outputs": [
    {
     "data": {
      "text/plain": [
       "<AxesSubplot:xlabel='Time'>"
      ]
     },
     "execution_count": 33,
     "metadata": {},
     "output_type": "execute_result"
    },
    {
     "data": {
      "image/png": "[encoded data removed]",
      "text/plain": [
       "<Figure size 432x288 with 1 Axes>"
      ]
     },
     "metadata": {
      "needs_background": "light"
     },
     "output_type": "display_data"
    }
   ],
   "source": [
    "key_events.groupby([key_events['Time'].dt.hour, 'EventId']).size().unstack().plot(kind='line')"
   ]
  },
  {
   "cell_type": "code",
   "execution_count": 39,
   "id": "8b58a0e5",
   "metadata": {},
   "outputs": [
    {
     "name": "stderr",
     "output_type": "stream",
     "text": [
      "C:\\Users\\IHSAN B P\\AppData\\Local\\Temp\\ipykernel_6664\\4181997620.py:2: SettingWithCopyWarning: \n",
      "A value is trying to be set on a copy of a slice from a DataFrame.\n",
      "Try using .loc[row_indexer,col_indexer] = value instead\n",
      "\n",
      "See the caveats in the documentation: https://pandas.pydata.org/pandas-docs/stable/user_guide/indexing.html#returning-a-view-versus-a-copy\n",
      "  df_e4['Calories'] = df_e4['Content'].str.extract(r'(\\d+)')\n",
      "C:\\Users\\IHSAN B P\\AppData\\Local\\Temp\\ipykernel_6664\\4181997620.py:3: SettingWithCopyWarning: \n",
      "A value is trying to be set on a copy of a slice from a DataFrame.\n",
      "Try using .loc[row_indexer,col_indexer] = value instead\n",
      "\n",
      "See the caveats in the documentation: https://pandas.pydata.org/pandas-docs/stable/user_guide/indexing.html#returning-a-view-versus-a-copy\n",
      "  df_e4['Calories'] = df_e4['Calories'].astype(int)\n"
     ]
    },
    {
     "data": {
      "text/html": [
       "<div>\n",
       "<style scoped>\n",
       "    .dataframe tbody tr th:only-of-type {\n",
       "        vertical-align: middle;\n",
       "    }\n",
       "\n",
       "    .dataframe tbody tr th {\n",
       "        vertical-align: top;\n",
       "    }\n",
       "\n",
       "    .dataframe thead th {\n",
       "        text-align: right;\n",
       "    }\n",
       "</style>\n",
       "<table border=\"1\" class=\"dataframe\">\n",
       "  <thead>\n",
       "    <tr style=\"text-align: right;\">\n",
       "      <th></th>\n",
       "      <th>LineId</th>\n",
       "      <th>Time</th>\n",
       "      <th>Component</th>\n",
       "      <th>Content</th>\n",
       "      <th>EventId</th>\n",
       "      <th>EventTemplate</th>\n",
       "      <th>Calories</th>\n",
       "    </tr>\n",
       "  </thead>\n",
       "  <tbody>\n",
       "    <tr>\n",
       "      <th>8</th>\n",
       "      <td>9</td>\n",
       "      <td>20171223-22:15:29:645</td>\n",
       "      <td>Step_ExtSDM</td>\n",
       "      <td>calculateCaloriesWithCache totalCalories=126775</td>\n",
       "      <td>E4</td>\n",
       "      <td>calculateCaloriesWithCache totalCalories=&lt;*&gt;</td>\n",
       "      <td>126775</td>\n",
       "    </tr>\n",
       "    <tr>\n",
       "      <th>17</th>\n",
       "      <td>18</td>\n",
       "      <td>20171223-22:15:29:959</td>\n",
       "      <td>Step_ExtSDM</td>\n",
       "      <td>calculateCaloriesWithCache totalCalories=126797</td>\n",
       "      <td>E4</td>\n",
       "      <td>calculateCaloriesWithCache totalCalories=&lt;*&gt;</td>\n",
       "      <td>126797</td>\n",
       "    </tr>\n",
       "    <tr>\n",
       "      <th>24</th>\n",
       "      <td>25</td>\n",
       "      <td>20171223-22:15:30:639</td>\n",
       "      <td>Step_ExtSDM</td>\n",
       "      <td>calculateCaloriesWithCache totalCalories=126818</td>\n",
       "      <td>E4</td>\n",
       "      <td>calculateCaloriesWithCache totalCalories=&lt;*&gt;</td>\n",
       "      <td>126818</td>\n",
       "    </tr>\n",
       "    <tr>\n",
       "      <th>31</th>\n",
       "      <td>32</td>\n",
       "      <td>20171223-22:15:31:157</td>\n",
       "      <td>Step_ExtSDM</td>\n",
       "      <td>calculateCaloriesWithCache totalCalories=126861</td>\n",
       "      <td>E4</td>\n",
       "      <td>calculateCaloriesWithCache totalCalories=&lt;*&gt;</td>\n",
       "      <td>126861</td>\n",
       "    </tr>\n",
       "    <tr>\n",
       "      <th>38</th>\n",
       "      <td>39</td>\n",
       "      <td>20171223-22:15:32:156</td>\n",
       "      <td>Step_ExtSDM</td>\n",
       "      <td>calculateCaloriesWithCache totalCalories=126882</td>\n",
       "      <td>E4</td>\n",
       "      <td>calculateCaloriesWithCache totalCalories=&lt;*&gt;</td>\n",
       "      <td>126882</td>\n",
       "    </tr>\n",
       "  </tbody>\n",
       "</table>\n",
       "</div>"
      ],
      "text/plain": [
       "    LineId                   Time    Component  \\\n",
       "8        9  20171223-22:15:29:645  Step_ExtSDM   \n",
       "17      18  20171223-22:15:29:959  Step_ExtSDM   \n",
       "24      25  20171223-22:15:30:639  Step_ExtSDM   \n",
       "31      32  20171223-22:15:31:157  Step_ExtSDM   \n",
       "38      39  20171223-22:15:32:156  Step_ExtSDM   \n",
       "\n",
       "                                            Content EventId  \\\n",
       "8   calculateCaloriesWithCache totalCalories=126775      E4   \n",
       "17  calculateCaloriesWithCache totalCalories=126797      E4   \n",
       "24  calculateCaloriesWithCache totalCalories=126818      E4   \n",
       "31  calculateCaloriesWithCache totalCalories=126861      E4   \n",
       "38  calculateCaloriesWithCache totalCalories=126882      E4   \n",
       "\n",
       "                                   EventTemplate  Calories  \n",
       "8   calculateCaloriesWithCache totalCalories=<*>    126775  \n",
       "17  calculateCaloriesWithCache totalCalories=<*>    126797  \n",
       "24  calculateCaloriesWithCache totalCalories=<*>    126818  \n",
       "31  calculateCaloriesWithCache totalCalories=<*>    126861  \n",
       "38  calculateCaloriesWithCache totalCalories=<*>    126882  "
      ]
     },
     "execution_count": 39,
     "metadata": {},
     "output_type": "execute_result"
    }
   ],
   "source": [
    "df_e4 = df[df['EventId'] == 'E4']\n",
    "df_e4['Calories'] = df_e4['Content'].str.extract(r'(\\d+)')\n",
    "df_e4['Calories'] = df_e4['Calories'].astype(int)\n",
    "df_e4.head()"
   ]
  },
  {
   "cell_type": "markdown",
   "id": "dd1f490f",
   "metadata": {},
   "source": [
    "## Total Calorie Burn Over Time for Event E4(calories burned)"
   ]
  },
  {
   "cell_type": "code",
   "execution_count": 46,
   "id": "59a2e564",
   "metadata": {},
   "outputs": [
    {
     "name": "stderr",
     "output_type": "stream",
     "text": [
      "C:\\Users\\IHSAN B P\\AppData\\Local\\Temp\\ipykernel_6664\\344221879.py:6: SettingWithCopyWarning:\n",
      "\n",
      "\n",
      "A value is trying to be set on a copy of a slice from a DataFrame.\n",
      "Try using .loc[row_indexer,col_indexer] = value instead\n",
      "\n",
      "See the caveats in the documentation: https://pandas.pydata.org/pandas-docs/stable/user_guide/indexing.html#returning-a-view-versus-a-copy\n",
      "\n",
      "C:\\Users\\IHSAN B P\\AppData\\Local\\Temp\\ipykernel_6664\\344221879.py:7: SettingWithCopyWarning:\n",
      "\n",
      "\n",
      "A value is trying to be set on a copy of a slice from a DataFrame.\n",
      "Try using .loc[row_indexer,col_indexer] = value instead\n",
      "\n",
      "See the caveats in the documentation: https://pandas.pydata.org/pandas-docs/stable/user_guide/indexing.html#returning-a-view-versus-a-copy\n",
      "\n",
      "C:\\Users\\IHSAN B P\\AppData\\Local\\Temp\\ipykernel_6664\\344221879.py:10: SettingWithCopyWarning:\n",
      "\n",
      "\n",
      "A value is trying to be set on a copy of a slice from a DataFrame.\n",
      "Try using .loc[row_indexer,col_indexer] = value instead\n",
      "\n",
      "See the caveats in the documentation: https://pandas.pydata.org/pandas-docs/stable/user_guide/indexing.html#returning-a-view-versus-a-copy\n",
      "\n"
     ]
    },
    {
     "data": {
      "image/png": "[encoded data removed]",
      "text/plain": [
       "<Figure size 864x432 with 1 Axes>"
      ]
     },
     "metadata": {
      "needs_background": "light"
     },
     "output_type": "display_data"
    }
   ],
   "source": [
    "# Assuming df_e4 is defined\n",
    "df_e4['Calories'] = df_e4['Content'].str.extract(r'(\\d+)')\n",
    "df_e4['Calories'] = df_e4['Calories'].astype(int)\n",
    "\n",
    "# Adjust the format string in to_datetime\n",
    "df_e4['Time'] = pd.to_datetime(df_e4['Time'], format='%Y%m%d-%H:%M:%S:%f')\n",
    "\n",
    "# Plotting\n",
    "plt.figure(figsize=(12, 6))\n",
    "plt.plot(df_e4['Time'], df_e4['Calories'], marker='o', linestyle='-', color='b')\n",
    "plt.title('Calorie Burn Over Time')\n",
    "plt.xlabel('Time')\n",
    "plt.ylabel('Calories Burned')\n",
    "plt.grid(True)\n",
    "plt.tight_layout()\n",
    "\n",
    "plt.gca().xaxis.set_major_formatter(plt.matplotlib.dates.DateFormatter('%H:%M:%S'))\n",
    "plt.show()\n"
   ]
  },
  {
   "cell_type": "markdown",
   "id": "05466cd0",
   "metadata": {},
   "source": [
    "## Calorie Burn Over Time for Event E4, Excluding Inactive Periods"
   ]
  },
  {
   "cell_type": "code",
   "execution_count": 62,
   "id": "2ef5dd43",
   "metadata": {},
   "outputs": [
    {
     "name": "stderr",
     "output_type": "stream",
     "text": [
      "C:\\Users\\IHSAN B P\\AppData\\Local\\Temp\\ipykernel_6664\\1008621727.py:5: SettingWithCopyWarning:\n",
      "\n",
      "\n",
      "A value is trying to be set on a copy of a slice from a DataFrame.\n",
      "Try using .loc[row_indexer,col_indexer] = value instead\n",
      "\n",
      "See the caveats in the documentation: https://pandas.pydata.org/pandas-docs/stable/user_guide/indexing.html#returning-a-view-versus-a-copy\n",
      "\n",
      "C:\\Users\\IHSAN B P\\AppData\\Local\\Temp\\ipykernel_6664\\1008621727.py:8: SettingWithCopyWarning:\n",
      "\n",
      "\n",
      "A value is trying to be set on a copy of a slice from a DataFrame.\n",
      "Try using .loc[row_indexer,col_indexer] = value instead\n",
      "\n",
      "See the caveats in the documentation: https://pandas.pydata.org/pandas-docs/stable/user_guide/indexing.html#returning-a-view-versus-a-copy\n",
      "\n"
     ]
    },
    {
     "data": {
      "image/png": "[encoded data removed]",
      "text/plain": [
       "<Figure size 864x432 with 1 Axes>"
      ]
     },
     "metadata": {
      "needs_background": "light"
     },
     "output_type": "display_data"
    }
   ],
   "source": [
    "import pandas as pd\n",
    "import matplotlib.pyplot as plt\n",
    "\n",
    "# Assuming df_e4 is defined\n",
    "df_e4['Calories'] = df_e4['Content'].str.extract(r'(\\d+)').astype(int)\n",
    "\n",
    "# Adjust the format string in to_datetime\n",
    "df_e4['Time'] = pd.to_datetime(df_e4['Time'], format='%Y%m%d-%H:%M:%S:%f')\n",
    "\n",
    "# Filter out the periods where no calories are burned\n",
    "df_active_calories = df_e4[df_e4['Calories'] > 0]\n",
    "\n",
    "# Plotting\n",
    "plt.figure(figsize=(12, 6))\n",
    "plt.plot(df_active_calories['Time'], df_active_calories['Calories'], marker='o', linestyle='-', color='b')\n",
    "plt.title('Calorie Burn Over Time for Event E4, Excluding Inactive Periods')\n",
    "plt.xlabel('Time')\n",
    "plt.ylabel('Calories Burned')\n",
    "plt.grid(True)\n",
    "plt.tight_layout()\n",
    "\n",
    "plt.gca().xaxis.set_major_formatter(plt.matplotlib.dates.DateFormatter('%H:%M:%S'))\n",
    "plt.show()\n"
   ]
  },
  {
   "cell_type": "markdown",
   "id": "18875180",
   "metadata": {},
   "source": [
    "# Conclusions"
   ]
  },
  {
   "cell_type": "markdown",
   "id": "998499a0",
   "metadata": {},
   "source": [
    "### Steps Counter"
   ]
  },
  {
   "cell_type": "markdown",
   "id": "ad7cca2f",
   "metadata": {},
   "source": [
    "The data we have is from 23/12/2017 10.15 PM 29sec 606 milli sec to 24/12/2017 01.02 AM 35 sec 789 milli sec.\n",
    "that means basically we only have data of 2 hours, 47 minutes, and 6 seconds.\n",
    "* On December 23, 2017, between 10:15 PM and 11:57 PM, the person accumulated a total of 7,214 steps.\n",
    "* On December 24, 2017, from midnight to 00:29 AM, no steps were recorded, indicating a period of inactivity.* on 24-12-2017(from 00:00AM to 00:29AM) person's total step count = 0\n",
    "* After 11:14 PM on December 23, 2017, there were no further steps recorded, suggesting that the person might have been resting or had put their tracking device aside.\n",
    "* A workout session was identified, starting at 10:15 PM on December 23, 2017, and ending at midnight on December 24, 2017 (specific details referred to in cell 4 of the analysis).\n",
    "* The person's average number of steps per day is approximately 23,898(approx).\n"
   ]
  },
  {
   "cell_type": "markdown",
   "id": "e20812ee",
   "metadata": {},
   "source": [
    "### Summary of Calorie Consumption"
   ]
  },
  {
   "cell_type": "markdown",
   "id": "de4e98c2",
   "metadata": {},
   "source": [
    "* <b>Intensive Caloric Burn on December 23, 2017:</b> Between 10:15 PM and 11:57 PM, the individual burned a total of 131,208 calories, indicating a period of significant physical activity or exercise.\n",
    "* <b>Period of No Caloric Burn on December 24, 2017:</b> There was no caloric burn recorded from midnight to 00:29 AM, suggesting a time of rest or inactivity.\n",
    "* <b>Consistent Inactivity Noted Post 11:14 PM:</b> The absence of significant changes in both step count and calorie data after 11:14 PM confirms a period of rest or non-movement, indicating that the person may have ceased physical activity for the day or placed their tracking device in a stationary position."
   ]
  },
  {
   "cell_type": "markdown",
   "id": "885a2b87",
   "metadata": {},
   "source": [
    "## Additional Analyses Conducted\n",
    "\n",
    "In addition to the primary findings detailed in the conclusions section, a series of supplementary analyses were undertaken to provide a more comprehensive review of the dataset. While these analyses have not been included in the main conclusions, they are crucial in understanding the broader context of user behavior and data interaction. These analyses include:\n",
    "\n",
    "- **App Usage and Engagement Analysis:**\n",
    "  An in-depth examination of user interactions with notifications, and data synchronization and upload events, aiming to understand user engagement and data management behaviors.\n",
    "\n",
    "- **Health Data Quality Analysis:**\n",
    "  A critical assessment of the data quality checks, signified by events E31 and E50, was performed to ensure the integrity and reliability of the health data.\n",
    "\n",
    "- **Time Series Analysis:**\n",
    "  Trends and patterns were sought by charting the occurrences of key events over time, taking into account the date and time of their recording.\n",
    "\n",
    "- **Correlation with Time of Day:**\n",
    "  The relationship between the timing of events and user behavior was analyzed by correlating event occurrences with different hours of the day.\n",
    "\n",
    "The rationale for omitting these analyses from the final conclusions is the current ambiguity surrounding the precise implications and meanings of each event type (E10, E11, E1, E23, E74, E31, E50, E12). A deeper interpretive context is needed to derive actionable insights from these events. The results from these additional analyses are documented and will be elaborated upon in future reports once a clearer understanding is achieved.\n"
   ]
  },
  {
   "cell_type": "code",
   "execution_count": null,
   "id": "e6625e6b",
   "metadata": {},
   "outputs": [],
   "source": []
  }
 ],
 "metadata": {
  "kernelspec": {
   "display_name": "Python 3 (ipykernel)",
   "language": "python",
   "name": "python3"
  },
  "language_info": {
   "codemirror_mode": {
    "name": "ipython",
    "version": 3
   },
   "file_extension": ".py",
   "mimetype": "text/x-python",
   "name": "python",
   "nbconvert_exporter": "python",
   "pygments_lexer": "ipython3",
   "version": "3.9.12"
  }
 },
 "nbformat": 4,
 "nbformat_minor": 5
}
